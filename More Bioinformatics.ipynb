{
 "cells": [
  {
   "cell_type": "code",
   "execution_count": 1,
   "metadata": {
    "collapsed": true
   },
   "outputs": [],
   "source": [
    "#http://rosalind.info/problems/tran/\n",
    "from Bio import SeqIO\n",
    "def transitions_transversions_ratio(file):\n",
    "    f = open(file, \"r\")\n",
    "    seqs = [str(i.seq) for i in SeqIO.parse(f, \"fasta\")]\n",
    "    f.close()\n",
    "    transitions = [\"AG\", \"GA\", \"CT\", \"TC\"]\n",
    "    transversion = [\"AC\", \"CA\", \"AT\", \"TA\", \"GT\", \"TG\", \"GC\", \"CG\"]\n",
    "    transition_c, transversion_c = 0, 0\n",
    "    for i in range(len(seqs[0])):\n",
    "        if seqs[0][i]+seqs[1][i] in transitions:\n",
    "            transition_c+=1\n",
    "        elif seqs[0][i]+seqs[1][i] in transversion:\n",
    "            transversion_c+=1\n",
    "    return transition_c/transversion_c      "
   ]
  },
  {
   "cell_type": "code",
   "execution_count": 51,
   "metadata": {},
   "outputs": [],
   "source": [
    "#http://rosalind.info/problems/sseq/\n",
    "def find_char(seq, c):\n",
    "    for i in range(len(seq)):\n",
    "        if seq[i] == c:\n",
    "            return True\n",
    "    return False\n",
    "\n",
    "def find_spliced_motif(file):\n",
    "    f = open(file, \"r\")\n",
    "    seq = [str(i.seq) for i in SeqIO.parse(f, \"fasta\")]\n",
    "    f.close()\n",
    "    pos = []\n",
    "    index = 0\n",
    "    for sub in seq[1]:\n",
    "        temp = seq[0][index:]\n",
    "        index = temp.index(sub) + 1 + index\n",
    "        pos.append(index)\n",
    "    return pos\n",
    "#find_spliced_motif(\"/Users/mark/Downloads/rosalind_sseq.txt\")"
   ]
  },
  {
   "cell_type": "code",
   "execution_count": 66,
   "metadata": {},
   "outputs": [
    {
     "name": "stdout",
     "output_type": "stream",
     "text": [
      "6\n",
      "1 2 3\n",
      "1 3 2\n",
      "2 1 3\n",
      "2 3 1\n",
      "3 1 2\n",
      "3 2 1\n",
      "<class 'list'>\n"
     ]
    }
   ],
   "source": [
    "#Gene order permutation\n",
    "from itertools import permutations\n",
    "def find_permutations(p: int):\n",
    "    s = [i+1 for i in range(p)]\n",
    "    s = list(permutations(s))\n",
    "    print(len(s))\n",
    "    for i in s:\n",
    "        print(\" \".join(map(str, i)))\n",
    "    return s\n",
    "find_permutations(3)\n"
   ]
  },
  {
   "cell_type": "code",
   "execution_count": 75,
   "metadata": {},
   "outputs": [
    {
     "data": {
      "text/plain": [
       "756800"
      ]
     },
     "execution_count": 75,
     "metadata": {},
     "output_type": "execute_result"
    }
   ],
   "source": [
    "#http://rosalind.info/problems/pper/\n",
    "from math import factorial\n",
    "def pper(n, k):\n",
    "    \n",
    "    return (factorial(n)//factorial(n-k)) %1000000\n",
    "pper(85, 9)"
   ]
  },
  {
   "cell_type": "code",
   "execution_count": 102,
   "metadata": {},
   "outputs": [],
   "source": [
    "#http://rosalind.info/problems/sign/\n",
    "from itertools import permutations\n",
    "def square(i):\n",
    "    return i*i\n",
    "def sign(n):\n",
    "    p = list(permutations([-i for i in range(1, n+1)] + [i for i in range(1, n+1)], n))\n",
    "    p_f = []\n",
    "    for i in p:\n",
    "        if len(set(map(square, i))) != 1:\n",
    "\n",
    "            p_f.append(i)\n",
    "            \n",
    "    print(len(p_f))\n",
    "    for i in p_f:\n",
    "        print(\" \".join(list(map(str, i))))\n",
    "\n"
   ]
  },
  {
   "cell_type": "code",
   "execution_count": 101,
   "metadata": {},
   "outputs": [
    {
     "name": "stdout",
     "output_type": "stream",
     "text": [
      "8\n",
      "-1 -2\n",
      "-1 2\n",
      "1 -2\n",
      "1 2\n",
      "-2 -1\n",
      "-2 1\n",
      "2 -1\n",
      "2 1\n"
     ]
    }
   ],
   "source": [
    "#http://saradoesbioinformatics.blogspot.co.uk/2016/07/enumerating-oriented-gene-orderings.html\n",
    "import itertools                                                           \n",
    "n = 2                                                                  \n",
    "permutation = []                                                           \n",
    "nr = 0                                                                     \n",
    "for i in itertools.permutations(list(range(1, n + 1))):                    \n",
    "    for j in itertools.product([-1, 1], repeat=len(list(range(1, n + 1)))):\n",
    "        perm = [a * sign for a, sign in zip(i, j)]                         \n",
    "        permutation.append(perm)                                           \n",
    "        nr += 1                                                            \n",
    "print(nr)                                                                  \n",
    "for i in range(len(permutation)):                                          \n",
    "    print(*permutation[i], sep=' ')   \n"
   ]
  },
  {
   "cell_type": "code",
   "execution_count": 113,
   "metadata": {},
   "outputs": [
    {
     "name": "stdout",
     "output_type": "stream",
     "text": [
      "AA\n",
      "AC\n",
      "AT\n",
      "AG\n",
      "CA\n",
      "CC\n",
      "CT\n",
      "CG\n",
      "TA\n",
      "TC\n",
      "TT\n",
      "TG\n",
      "GA\n",
      "GC\n",
      "GT\n",
      "GG\n"
     ]
    }
   ],
   "source": [
    "#http://rosalind.info/problems/lexf/\n",
    "from itertools import product\n",
    "\n",
    "def lexf(alp: list, n: int):\n",
    "    p = list(product(alp.split(), repeat = n))\n",
    "    for i in p:\n",
    "        print(\"\".join(i))\n",
    "    \n",
    "lexf(\"A C T G\", 2)"
   ]
  },
  {
   "cell_type": "code",
   "execution_count": 134,
   "metadata": {},
   "outputs": [
    {
     "name": "stdout",
     "output_type": "stream",
     "text": [
      "D\n",
      "DD\n",
      "DDD\n",
      "DDN\n",
      "DDA\n",
      "DN\n",
      "DND\n",
      "DNN\n",
      "DNA\n",
      "DA\n",
      "DAD\n",
      "DAN\n",
      "DAA\n",
      "N\n",
      "ND\n",
      "NDD\n",
      "NDN\n",
      "NDA\n",
      "NN\n",
      "NND\n",
      "NNN\n",
      "NNA\n",
      "NA\n",
      "NAD\n",
      "NAN\n",
      "NAA\n",
      "A\n",
      "AD\n",
      "ADD\n",
      "ADN\n",
      "ADA\n",
      "AN\n",
      "AND\n",
      "ANN\n",
      "ANA\n",
      "AA\n",
      "AAD\n",
      "AAN\n",
      "AAA\n"
     ]
    }
   ],
   "source": [
    "#http://rosalind.info/problems/lexv/\n",
    "from itertools import product, repeat\n",
    "def lexv(alp: list, n: int):\n",
    "    alphabet = ''.join(alp.split(' '))\n",
    "    for x in product(*repeat(' %s' % alphabet, n)):\n",
    "        xs = ''.join(x).strip()\n",
    "        if not x[0] == ' ' and not ' ' in xs:\n",
    "            print(xs)\n",
    "\n",
    "lexv(\"D N A\", 3)"
   ]
  },
  {
   "cell_type": "code",
   "execution_count": 140,
   "metadata": {},
   "outputs": [
    {
     "name": "stdout",
     "output_type": "stream",
     "text": [
      "326 329 375 352 357 331 343 347 386 327 344 355 356 346 344 356 332 375 338 338 363 322 347 347 337 355 315 317 333 341 352 360 356 327 383 353 342 329 350 329 342 349 341 308 354 389 353 360 334 318 347 355 317 337 324 347 373 349 364 340 332 341 349 367 342 334 338 350 342 382 346 332 328 344 317 373 313 337 361 357 324 369 315 371 343 318 329 320 383 314 344 349 323 334 336 368 351 360 354 340 338 333 376 334 350 336 349 345 336 328 321 364 355 321 344 313 342 325 352 314 346 348 307 356 320 346 384 328 353 395 346 347 346 347 325 358 351 347 348 410 349 320 345 352 357 331 363 331 322 343 359 361 355 357 380 352 345 322 331 324 353 343 375 313 328 379 351 318 357 352 356 365 331 328 330 372 344 349 321 337 362 362 316 333 333 358 355 303 356 362 360 367 361 320 353 353 338 319 310 349 354 332 331 318 336 322 376 324 351 327 345 328 351 327 355 333 330 355 341 331 332 336 338 326 381 347 344 360 374 344 367 341 335 339 384 343 330 328 345 349 354 328 323 353 330 342 365 338 380 371 375 353 350 326 386 388\n"
     ]
    }
   ],
   "source": [
    "from itertools import product\n",
    "from Bio import SeqIO\n",
    "import re\n",
    "\n",
    "#http://rosalind.info/problems/kmer/\n",
    "def k_mer(file):\n",
    "    record = SeqIO.read(file, 'fasta')\n",
    "    sequence = record.seq\n",
    "    nt = 'ACGT'        \n",
    "    permutations = product(nt, repeat=4)\n",
    "    kmers = []\n",
    "    for i, j in enumerate(list(permutations)):\n",
    "        kmer = ''\n",
    "        for item in j:\n",
    "            kmer += str(item)\n",
    "        kmers.append(kmer)\n",
    "        \n",
    "    A = []\n",
    "    for k in kmers:\n",
    "        occurence = 0\n",
    "        pattern = re.compile(r'(?=(' + k + '))')\n",
    "        for l in re.findall(pattern, str(sequence)):\n",
    "            occurence += 1\n",
    "        A.append(occurence)\n",
    "    print(*A, sep=' ')\n",
    "\n",
    "k_mer(\"/Users/mark/Downloads/rosalind_kmer.txt\")"
   ]
  },
  {
   "cell_type": "code",
   "execution_count": 166,
   "metadata": {},
   "outputs": [
    {
     "name": "stdout",
     "output_type": "stream",
     "text": [
      "37\n"
     ]
    }
   ],
   "source": [
    "from Bio import SeqIO\n",
    "#http://rosalind.info/problems/phre/\n",
    "f = open(\"/Users/mark/Downloads/rosalind_phre-5.txt\", \"r\")\n",
    "seq = [i.letter_annotations[\"phred_quality\"] for i in SeqIO.parse(f, \"fastq\")]\n",
    "f.close()\n",
    "s = []\n",
    "for i in seq:\n",
    "    s.append(sum(i) / len(i))\n",
    "final_mean = sum(s)/len(s)\n",
    "c = 0\n",
    "for i in s:\n",
    "    if i < final_mean:\n",
    "        c+=1\n",
    "print(c)"
   ]
  },
  {
   "cell_type": "code",
   "execution_count": 187,
   "metadata": {},
   "outputs": [
    {
     "name": "stdout",
     "output_type": "stream",
     "text": [
      "1\n"
     ]
    }
   ],
   "source": [
    "#http://rosalind.info/problems/ptra/\n",
    "from Bio.Seq import translate\n",
    "def translate_dna(dna, ncbi):\n",
    "    return translate(dna, stop_symbol=\"\", table=ncbi)\n",
    "\n",
    "ncbi_list = [1, 2, 3, 4, 5, 6, 9, 10, 11, 12, 13, 14, 15]\n",
    "def translate_index(dna, protein):\n",
    "    for i in ncbi_list:\n",
    "        if translate_dna(dna, i) == protein:\n",
    "            return i\n",
    "seq = \"ATGGCCATGGCGCCCAGAACTGAGATCAATAGTACCCGTATTAACGGGTGA\"\n",
    "pseq = \"MAMAPRTEINSTRING\"\n",
    "print(translate_index(seq,pseq))"
   ]
  },
  {
   "cell_type": "code",
   "execution_count": 184,
   "metadata": {},
   "outputs": [
    {
     "name": "stdout",
     "output_type": "stream",
     "text": [
      "1 2 3\n",
      "5 4 2\n"
     ]
    },
    {
     "data": {
      "text/plain": [
       "([1, 2, 3], [5, 4, 2])"
      ]
     },
     "execution_count": 184,
     "metadata": {},
     "output_type": "execute_result"
    }
   ],
   "source": [
    "#http://rosalind.info/problems/lgis/\n",
    "#https://github.com/jdp/rosalind/blob/master/lgis/__main__.py\n",
    "def lcs(a, b):\n",
    "    \"\"\"Return the longest common subsequence between iterables as a list.\n",
    "    \"\"\"\n",
    "    lengths = [[0 for j in range(len(b)+1)] for i in range(len(a)+1)]\n",
    "    for i, x in enumerate(a):\n",
    "        for j, y in enumerate(b):\n",
    "            if x == y:\n",
    "                lengths[i+1][j+1] = lengths[i][j] + 1\n",
    "            else:\n",
    "                lengths[i+1][j+1] = \\\n",
    "                    max(lengths[i+1][j], lengths[i][j+1])\n",
    "    result = []\n",
    "    x, y = len(a), len(b)\n",
    "    while x != 0 and y != 0:\n",
    "        if lengths[x][y] == lengths[x-1][y]:\n",
    "            x -= 1\n",
    "        elif lengths[x][y] == lengths[x][y-1]:\n",
    "            y -= 1\n",
    "        else:\n",
    "            assert a[x-1] == b[y-1]\n",
    "            result = [a[x-1]] + result\n",
    "            x -= 1\n",
    "            y -= 1\n",
    "\n",
    "    return result\n",
    "\n",
    "\n",
    "def lgis(n, pi):\n",
    "    pi = list(map(int, pi.split()))\n",
    "    incr = lcs(pi, sorted(pi))\n",
    "    decr = lcs(pi, sorted(pi, reverse=True))\n",
    "    for i in [incr, decr]:\n",
    "        i = list(map(str, i))\n",
    "        print(\" \".join(i))\n",
    "    return (incr, decr)\n",
    "lgis(5, \"5 1 4 2 3\")\n"
   ]
  },
  {
   "cell_type": "code",
   "execution_count": 185,
   "metadata": {
    "collapsed": true
   },
   "outputs": [],
   "source": [
    "#http://rosalind.info/problems/revp/\n",
    "\n",
    "def revp(file):\n",
    "    "
   ]
  },
  {
   "cell_type": "code",
   "execution_count": null,
   "metadata": {
    "collapsed": true
   },
   "outputs": [],
   "source": []
  },
  {
   "cell_type": "code",
   "execution_count": null,
   "metadata": {
    "collapsed": true
   },
   "outputs": [],
   "source": []
  }
 ],
 "metadata": {
  "kernelspec": {
   "display_name": "Python 3",
   "language": "python",
   "name": "python3"
  },
  "language_info": {
   "codemirror_mode": {
    "name": "ipython",
    "version": 3
   },
   "file_extension": ".py",
   "mimetype": "text/x-python",
   "name": "python",
   "nbconvert_exporter": "python",
   "pygments_lexer": "ipython3",
   "version": "3.6.2"
  }
 },
 "nbformat": 4,
 "nbformat_minor": 2
}
