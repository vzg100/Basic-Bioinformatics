{
 "cells": [
  {
   "cell_type": "markdown",
   "metadata": {},
   "source": [
    "These are common functions used in bioinformatics. Most of these fuctions minimize the use of external libraries. \n",
    "\n",
    "These are NOT the most effecient implementations, the goal here is for simplicity "
   ]
  },
  {
   "cell_type": "code",
   "execution_count": 121,
   "metadata": {},
   "outputs": [
    {
     "data": {
      "text/plain": [
       "5"
      ]
     },
     "execution_count": 121,
     "metadata": {},
     "output_type": "execute_result"
    }
   ],
   "source": [
    "# Sliding Window Approach to counting how many times a substring occurs in the primary string\n",
    "s1 = \"CGCGATACGTTACATACATGATAGACCGCGCGCGATCATATCGCGATTATC\"\n",
    "t1 = \"CGCG\"\n",
    "def sliding_window(s: str, t: str):\n",
    "    c=0\n",
    "    for i in range(len(s)):\n",
    "        if s[i:i+len(t)] == t:\n",
    "            c+=1\n",
    "        else:\n",
    "            pass\n",
    "    return c\n",
    "sliding_window(s1, t1)"
   ]
  },
  {
   "cell_type": "code",
   "execution_count": 67,
   "metadata": {},
   "outputs": [
    {
     "name": "stdout",
     "output_type": "stream",
     "text": [
      "GTG \n"
     ]
    }
   ],
   "source": [
    "#Finds Kmers and returns a dict showing frequency of kmers occuring\n",
    "def frequent_words(s: str, k: int):\n",
    "    patterns = {}\n",
    "    for i in range(len(s)):\n",
    "        if len(s[i:i+k]) == k:\n",
    "            if s[i:i+k] in patterns.keys():\n",
    "                patterns[s[i:i+k]] = 1 + patterns[s[i:i+k]]\n",
    "            else:\n",
    "                patterns[s[i:i+k]]=1\n",
    "    return patterns\n",
    "# Finds the most frequent kmers and returns them\n",
    "def most_common(patterns: dict):\n",
    "    highest = []\n",
    "    h = 0\n",
    "    for i in patterns.keys():\n",
    "        if patterns[i] > h:\n",
    "            h = patterns[i]\n",
    "    for i in patterns.keys():\n",
    "        if patterns[i] == h:\n",
    "            highest.append(i)\n",
    "    t = \"\"\n",
    "    for i in highest:\n",
    "        t+=i\n",
    "        t+=\" \"\n",
    "    print(t)\n",
    "\n",
    "s1 = \"TAAACGTGAGAGAAACGTGCTGATTACACTTGTTCGTGTGGTAT\"\n",
    "k1 = 3\n",
    "most_common(frequent_words(s1, k1))\n",
    "        "
   ]
  },
  {
   "cell_type": "code",
   "execution_count": 68,
   "metadata": {},
   "outputs": [
    {
     "data": {
      "text/plain": [
       "'AGCTAGC'"
      ]
     },
     "execution_count": 68,
     "metadata": {},
     "output_type": "execute_result"
    }
   ],
   "source": [
    "# Finds the reverse compliment of a sequence containing only ACTG\n",
    "def reverse_compliment(s: str):\n",
    "    nuc = {\"A\":\"T\", \"C\":\"G\", \"T\":\"A\", \"G\":\"C\"}\n",
    "    ns = \"\"\n",
    "    for i in s:\n",
    "        ns+=nuc[i]\n",
    "    ns = ns[::-1]\n",
    "    return ns\n",
    "s1 = \"GCTAGCT\"\n",
    "reverse_compliment(s1)"
   ]
  },
  {
   "cell_type": "code",
   "execution_count": 124,
   "metadata": {},
   "outputs": [
    {
     "name": "stdout",
     "output_type": "stream",
     "text": [
      "[7, 15, 17]\n",
      "[7, 15]\n",
      "[7, 15, 17]\n"
     ]
    }
   ],
   "source": [
    "# This is a simple but very slow solution\n",
    "def match_pattern(s: str, p: str):\n",
    "    spots = []\n",
    "    for i in range(len(s)):\n",
    "        if(s[i:i+len(p)]) == p:\n",
    "            spots.append(i)\n",
    "    return spots\n",
    "s1 = \"ATGACTTCGCTGTTACGCGC\"\n",
    "p1=\"CGC\"\n",
    "\n",
    "print(match_pattern(s1, p1))\n",
    "# Better way is to use regex, must faster however this version doesn't handle overlaps which can miss some spots\n",
    "import re\n",
    "t = [m.start() for m in re.finditer(p1, s1)]\n",
    "print(t)\n",
    "# Best was is using regex with look ahead\n",
    "# Using the folling string modification allows us to \n",
    "p1 = \"(?=\"+p1+\")\"\n",
    "\n",
    "\n",
    "tt = [m.start() for m in re.finditer(p1, s1)]\n",
    "print(tt)\n",
    "\n",
    "\n",
    "# Credits https://stackoverflow.com/questions/4664850/find-all-occurrences-of-a-substring-in-python"
   ]
  },
  {
   "cell_type": "code",
   "execution_count": 125,
   "metadata": {},
   "outputs": [
    {
     "name": "stdout",
     "output_type": "stream",
     "text": [
      "{'AA'}\n"
     ]
    }
   ],
   "source": [
    "from collections import defaultdict\n",
    "\n",
    "def search(s: str, k: int, L: int, t: int):\n",
    "    lookup = defaultdict(list)\n",
    "    result = set()\n",
    "\n",
    "    for pattern in range(len(s) - k + 1):\n",
    "        seg = s[pattern:pattern + k]\n",
    "\n",
    "        # remove prior positions of the same segment\n",
    "        # if they are more than L distance far\n",
    "        while lookup[seg] and pattern + k - lookup[seg][0] > L:\n",
    "            lookup[seg].pop(0)\n",
    "\n",
    "        lookup[seg].append(pattern)\n",
    "        if len(lookup[seg]) == t:\n",
    "            result.add(seg)\n",
    "    return result\n",
    "s1 = \"AAAACGTCGAAAAA\"\n",
    "k = 2\n",
    "L = 4\n",
    "t = 2\n",
    "print(search(s1, k, L, t))\n"
   ]
  },
  {
   "cell_type": "code",
   "execution_count": 66,
   "metadata": {},
   "outputs": [
    {
     "name": "stdout",
     "output_type": "stream",
     "text": [
      "ACCCGGAC\n"
     ]
    }
   ],
   "source": [
    "# Converts sequences stored as ints into sequences, k represent the length of the desired sequence\n",
    "def number_to_pattern(n: int, k: int):\n",
    "    t = \"\"\n",
    "    nuc = {\"0\":\"A\", \"1\":\"C\", \"2\":\"G\", \"3\":\"T\"}\n",
    "    for i in range(k):\n",
    "        t+=nuc[str(n%4)]\n",
    "        n = n//4\n",
    "    return t[::-1]\n",
    "\n",
    "print(number_to_pattern(5537, 8))"
   ]
  },
  {
   "cell_type": "code",
   "execution_count": 62,
   "metadata": {},
   "outputs": [
    {
     "data": {
      "text/plain": [
       "10968298238"
      ]
     },
     "execution_count": 62,
     "metadata": {},
     "output_type": "execute_result"
    }
   ],
   "source": [
    "# Converts sequence to int\n",
    "def pattern_to_number(s: str):\n",
    "    nuc = {\"A\":0, \"C\":1, \"G\":2, \"T\":3}\n",
    "    p = 0\n",
    "    for i in range(len(s)):\n",
    "        p = p + (nuc[s[i]]*(4**(len(s)-(i+1))))\n",
    "    return p\n",
    "pattern_to_number(\"GGATCTAAGTTAGTTTG\")"
   ]
  },
  {
   "cell_type": "code",
   "execution_count": 116,
   "metadata": {
    "collapsed": true
   },
   "outputs": [],
   "source": [
    "# Find the frequency patterns in a seq, this implementation works on short sequences but has issues on larger sequences  \n",
    "def compute_freq(s: str, k: int):\n",
    "    freq = [0] * (4**k)\n",
    "    for i in range(len(s)-1):\n",
    "        freq[pattern_to_number(s[i:i+k])] = freq[pattern_to_number(s[i:i+k])] + 1\n",
    "    s1 = \"\"\n",
    "    for i in freq:\n",
    "        s1+=str(i)\n",
    "        s1+=\" \"\n",
    "    return s1\n"
   ]
  },
  {
   "cell_type": "code",
   "execution_count": 3,
   "metadata": {},
   "outputs": [
    {
     "data": {
      "text/plain": [
       "[0, -1, -1, -1, 0, 1, 2, 1, 1, 1, 0, 1, 2, 1, 0, 0, 0, 0, -1, 0, -1, -2]"
      ]
     },
     "execution_count": 3,
     "metadata": {},
     "output_type": "execute_result"
    }
   ],
   "source": [
    "def skew(seq: str):\n",
    "    k = 0\n",
    "    s = [0]\n",
    "    nuc = {\"C\":-1, \"A\": 0, \"T\": 0, \"G\": 1}\n",
    "    for i in seq:\n",
    "        s.append(k+nuc[i])\n",
    "        k = k+nuc[i]\n",
    "    return s\n",
    "skew(\"CATGGGCATCGGCCATACGCC\")\n"
   ]
  },
  {
   "cell_type": "code",
   "execution_count": 4,
   "metadata": {
    "scrolled": false
   },
   "outputs": [
    {
     "data": {
      "text/plain": [
       "[74249, 74249]"
      ]
     },
     "execution_count": 4,
     "metadata": {},
     "output_type": "execute_result"
    }
   ],
   "source": [
    "def minimum_skew(seq: str):\n",
    "    skews = skew(seq)\n",
    "    mins = min(skews)\n",
    "    return [i for i in range(len(skews)) if skews[i] == mins]"
   ]
  },
  {
   "cell_type": "code",
   "execution_count": null,
   "metadata": {
    "collapsed": true
   },
   "outputs": [],
   "source": []
  }
 ],
 "metadata": {
  "kernelspec": {
   "display_name": "Python 3",
   "language": "python",
   "name": "python3"
  },
  "language_info": {
   "codemirror_mode": {
    "name": "ipython",
    "version": 3
   },
   "file_extension": ".py",
   "mimetype": "text/x-python",
   "name": "python",
   "nbconvert_exporter": "python",
   "pygments_lexer": "ipython3",
   "version": "3.6.2"
  }
 },
 "nbformat": 4,
 "nbformat_minor": 2
}
