{
 "cells": [
  {
   "cell_type": "code",
   "execution_count": 6,
   "metadata": {},
   "outputs": [],
   "source": [
    "import random\n",
    "import operator \n",
    "def fitness (password, test_word):\n",
    "\n",
    "    if (len(test_word) != len(password)):\n",
    "        print(\"taille incompatible\")\n",
    "        return False\n",
    "    else:\n",
    "        score = 0\n",
    "        i = 0\n",
    "        while (i < len(password)):\n",
    "            if (password[i] == test_word[i]):\n",
    "                score+=1\n",
    "            i+=1\n",
    "    return score * 100 / len(password)\n",
    "\n",
    "def generateAWord (length):\n",
    "    i = 0\n",
    "    result = \"\"\n",
    "    while i < length:\n",
    "        letter = chr(97 + int(26 * random.random()))\n",
    "        result += letter\n",
    "        i +=1\n",
    "    return result\n",
    "\n",
    "def generateFirstPopulation(sizePopulation, password):\n",
    "    population = []\n",
    "    i = 0\n",
    "    while i < sizePopulation:\n",
    "        population.append(generateAWord(len(password)))\n",
    "        i+=1\n",
    "    return population"
   ]
  },
  {
   "cell_type": "code",
   "execution_count": null,
   "metadata": {
    "collapsed": true
   },
   "outputs": [],
   "source": []
  }
 ],
 "metadata": {
  "kernelspec": {
   "display_name": "Python 3",
   "language": "python",
   "name": "python3"
  },
  "language_info": {
   "codemirror_mode": {
    "name": "ipython",
    "version": 3
   },
   "file_extension": ".py",
   "mimetype": "text/x-python",
   "name": "python",
   "nbconvert_exporter": "python",
   "pygments_lexer": "ipython3",
   "version": "3.6.2"
  }
 },
 "nbformat": 4,
 "nbformat_minor": 2
}
