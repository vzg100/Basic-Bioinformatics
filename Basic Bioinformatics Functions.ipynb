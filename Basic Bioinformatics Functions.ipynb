{
 "cells": [
  {
   "cell_type": "markdown",
   "metadata": {},
   "source": [
    "These are common functions used in bioinformatics. Most of these fuctions minimize the use of external libraries. \n",
    "\n",
    "I have included links to solutions that were developed by other individuals. Hopefully this can be of use. "
   ]
  },
  {
   "cell_type": "code",
   "execution_count": 1,
   "metadata": {},
   "outputs": [
    {
     "data": {
      "text/plain": [
       "5"
      ]
     },
     "execution_count": 1,
     "metadata": {},
     "output_type": "execute_result"
    }
   ],
   "source": [
    "# Sliding Window Approach to counting how many times a substring occurs in the primary string\n",
    "s1 = \"CGCGATACGTTACATACATGATAGACCGCGCGCGATCATATCGCGATTATC\"\n",
    "t1 = \"CGCG\"\n",
    "def sliding_window(s: str, t: str):\n",
    "    c=0\n",
    "    for i in range(len(s)):\n",
    "        if s[i:i+len(t)] == t:\n",
    "            c+=1\n",
    "        else:\n",
    "            pass\n",
    "    return c\n",
    "sliding_window(s1, t1)"
   ]
  },
  {
   "cell_type": "code",
   "execution_count": 2,
   "metadata": {},
   "outputs": [
    {
     "name": "stdout",
     "output_type": "stream",
     "text": [
      "GTG \n"
     ]
    },
    {
     "data": {
      "text/plain": [
       "['GTG', '']"
      ]
     },
     "execution_count": 2,
     "metadata": {},
     "output_type": "execute_result"
    }
   ],
   "source": [
    "#Finds Kmers and returns a dict showing frequency of kmers occuring\n",
    "def frequent_words(s: str, k: int):\n",
    "    patterns = {}\n",
    "    for i in range(len(s)):\n",
    "        if len(s[i:i+k]) == k:\n",
    "            if s[i:i+k] in patterns.keys():\n",
    "                patterns[s[i:i+k]] = 1 + patterns[s[i:i+k]]\n",
    "            else:\n",
    "                patterns[s[i:i+k]]=1\n",
    "    return patterns\n",
    "# Finds the most frequent kmers and returns them\n",
    "def most_common(patterns: dict):\n",
    "    highest = []\n",
    "    h = 0\n",
    "    for i in patterns.keys():\n",
    "        if patterns[i] > h:\n",
    "            h = patterns[i]\n",
    "    for i in patterns.keys():\n",
    "        if patterns[i] == h:\n",
    "            highest.append(i)\n",
    "    t = \"\"\n",
    "    for i in highest:\n",
    "        t+=i\n",
    "        t+=\" \"\n",
    "    print(t)\n",
    "    return t.split(\" \")\n",
    "\n",
    "s1 = \"TAAACGTGAGAGAAACGTGCTGATTACACTTGTTCGTGTGGTAT\"\n",
    "k1 = 3\n",
    "most_common(frequent_words(s1, k1))\n",
    "        "
   ]
  },
  {
   "cell_type": "code",
   "execution_count": 3,
   "metadata": {},
   "outputs": [
    {
     "data": {
      "text/plain": [
       "'AGCTAGC'"
      ]
     },
     "execution_count": 3,
     "metadata": {},
     "output_type": "execute_result"
    }
   ],
   "source": [
    "# Finds the reverse compliment of a sequence containing only ACTG\n",
    "def reverse_compliment(s: str):\n",
    "    nuc = {\"A\":\"T\", \"C\":\"G\", \"T\":\"A\", \"G\":\"C\"}\n",
    "    ns = \"\"\n",
    "    for i in s:\n",
    "        ns+=nuc[i]\n",
    "    ns = ns[::-1]\n",
    "    return ns\n",
    "s1 = \"GCTAGCT\"\n",
    "reverse_compliment(s1)"
   ]
  },
  {
   "cell_type": "code",
   "execution_count": 4,
   "metadata": {},
   "outputs": [
    {
     "name": "stdout",
     "output_type": "stream",
     "text": [
      "[7, 15, 17]\n",
      "[7, 15]\n",
      "[7, 15, 17]\n"
     ]
    }
   ],
   "source": [
    "# This is a simple but very slow solution\n",
    "def match_pattern(s: str, p: str):\n",
    "    spots = []\n",
    "    for i in range(len(s)):\n",
    "        if(s[i:i+len(p)]) == p:\n",
    "            spots.append(i)\n",
    "    return spots\n",
    "s1 = \"ATGACTTCGCTGTTACGCGC\"\n",
    "p1=\"CGC\"\n",
    "\n",
    "print(match_pattern(s1, p1))\n",
    "# Better way is to use regex, must faster however this version doesn't handle overlaps which can miss some spots\n",
    "import re\n",
    "t = [m.start() for m in re.finditer(p1, s1)]\n",
    "print(t)\n",
    "# Best was is using regex with look ahead\n",
    "# Using the folling string modification allows us to \n",
    "p1 = \"(?=\"+p1+\")\"\n",
    "\n",
    "\n",
    "tt = [m.start() for m in re.finditer(p1, s1)]\n",
    "print(tt)\n",
    "\n",
    "\n",
    "# Credits https://stackoverflow.com/questions/4664850/find-all-occurrences-of-a-substring-in-python"
   ]
  },
  {
   "cell_type": "code",
   "execution_count": 5,
   "metadata": {},
   "outputs": [
    {
     "name": "stdout",
     "output_type": "stream",
     "text": [
      "{'AA'}\n"
     ]
    }
   ],
   "source": [
    "from collections import defaultdict\n",
    "\n",
    "def search(s: str, k: int, L: int, t: int):\n",
    "    lookup = defaultdict(list)\n",
    "    result = set()\n",
    "\n",
    "    for pattern in range(len(s) - k + 1):\n",
    "        seg = s[pattern:pattern + k]\n",
    "\n",
    "        # remove prior positions of the same segment\n",
    "        # if they are more than L distance far\n",
    "        while lookup[seg] and pattern + k - lookup[seg][0] > L:\n",
    "            lookup[seg].pop(0)\n",
    "\n",
    "        lookup[seg].append(pattern)\n",
    "        if len(lookup[seg]) == t:\n",
    "            result.add(seg)\n",
    "    return result\n",
    "s1 = \"AAAACGTCGAAAAA\"\n",
    "k = 2\n",
    "L = 4\n",
    "t = 2\n",
    "print(search(s1, k, L, t))\n"
   ]
  },
  {
   "cell_type": "code",
   "execution_count": 6,
   "metadata": {},
   "outputs": [
    {
     "name": "stdout",
     "output_type": "stream",
     "text": [
      "ACCCGGAC\n"
     ]
    }
   ],
   "source": [
    "# Converts sequences stored as ints into sequences, k represent the length of the desired sequence\n",
    "def number_to_pattern(n: int, k: int):\n",
    "    t = \"\"\n",
    "    nuc = {\"0\":\"A\", \"1\":\"C\", \"2\":\"G\", \"3\":\"T\"}\n",
    "    for i in range(k):\n",
    "        t+=nuc[str(n%4)]\n",
    "        n = n//4\n",
    "    return t[::-1]\n",
    "\n",
    "print(number_to_pattern(5537, 8))"
   ]
  },
  {
   "cell_type": "code",
   "execution_count": 7,
   "metadata": {},
   "outputs": [
    {
     "data": {
      "text/plain": [
       "10968298238"
      ]
     },
     "execution_count": 7,
     "metadata": {},
     "output_type": "execute_result"
    }
   ],
   "source": [
    "# Converts sequence to int\n",
    "def pattern_to_number(s: str):\n",
    "    nuc = {\"A\":0, \"C\":1, \"G\":2, \"T\":3}\n",
    "    p = 0\n",
    "    for i in range(len(s)):\n",
    "        p = p + (nuc[s[i]]*(4**(len(s)-(i+1))))\n",
    "    return p\n",
    "pattern_to_number(\"GGATCTAAGTTAGTTTG\")"
   ]
  },
  {
   "cell_type": "code",
   "execution_count": 8,
   "metadata": {
    "collapsed": true
   },
   "outputs": [],
   "source": [
    "# Find the frequency patterns in a seq, this implementation works on short sequences but has issues on larger sequences  \n",
    "def compute_freq(s: str, k: int):\n",
    "    freq = [0] * (4**k)\n",
    "    for i in range(len(s)-1):\n",
    "        freq[pattern_to_number(s[i:i+k])] = freq[pattern_to_number(s[i:i+k])] + 1\n",
    "    s1 = \"\"\n",
    "    for i in freq:\n",
    "        s1+=str(i)\n",
    "        s1+=\" \"\n",
    "    return s1\n"
   ]
  },
  {
   "cell_type": "code",
   "execution_count": 9,
   "metadata": {},
   "outputs": [
    {
     "data": {
      "text/plain": [
       "[0, -1, -1, -1, 0, 1, 2, 1, 1, 1, 0, 1, 2, 1, 0, 0, 0, 0, -1, 0, -1, -2]"
      ]
     },
     "execution_count": 9,
     "metadata": {},
     "output_type": "execute_result"
    }
   ],
   "source": [
    "def skew(seq: str):\n",
    "    k = 0\n",
    "    s = [0]\n",
    "    nuc = {\"C\":-1, \"A\": 0, \"T\": 0, \"G\": 1}\n",
    "    for i in seq:\n",
    "        s.append(k+nuc[i])\n",
    "        k = k+nuc[i]\n",
    "    return s\n",
    "skew(\"CATGGGCATCGGCCATACGCC\")\n"
   ]
  },
  {
   "cell_type": "code",
   "execution_count": 10,
   "metadata": {
    "scrolled": false
   },
   "outputs": [
    {
     "name": "stdout",
     "output_type": "stream",
     "text": [
      "[12]\n"
     ]
    }
   ],
   "source": [
    "def minimum_skew(seq: str):\n",
    "    skews = skew(seq)\n",
    "    mins = min(skews)\n",
    "    t = [i for i in range(len(skews)) if skews[i] == mins]\n",
    "    print(t)\n",
    "minimum_skew(\"GATACACTTCCCGAGTAGGTACTG\")\n",
    "\n",
    "def max_skew(seq: str):\n",
    "    skews = skew(seq)\n",
    "    maxs = max(skews)\n",
    "    return [i for i in range(len(skews)) if skews[i] == maxs]\n",
    "#max_skew(\"CATTCCAGTACTTCATGATGGCGTGAAGA\")"
   ]
  },
  {
   "cell_type": "code",
   "execution_count": 11,
   "metadata": {},
   "outputs": [
    {
     "data": {
      "text/plain": [
       "50"
      ]
     },
     "execution_count": 11,
     "metadata": {},
     "output_type": "execute_result"
    }
   ],
   "source": [
    "def hamming_distance(seq1: str, seq2: str):\n",
    "    #https://pythonadventures.wordpress.com/2010/10/19/hamming-distance/\n",
    "    if len(seq1) == len(seq2):\n",
    "        return int(sum(ch1 != ch2 for ch1, ch2 in zip(seq1, seq2)))\n",
    "    else:\n",
    "        return -1\n",
    "        \n",
    "s1 = \"TGACCCGTTATGCTCGAGTTCGGTCAGAGCGTCATTGCGAGTAGTCGTTTGCTTTCTCAAACTCC\"\n",
    "s2 = \"GAGCGATTAAGCGTGACAGCCCCAGGGAACCCACAAAACGTGATCGCAGTCCATCCGATCATACA\"\n",
    "hamming_distance(s1, s2)\n",
    "    "
   ]
  },
  {
   "cell_type": "code",
   "execution_count": 12,
   "metadata": {},
   "outputs": [
    {
     "data": {
      "text/plain": [
       "[6, 7, 26, 27]"
      ]
     },
     "execution_count": 12,
     "metadata": {},
     "output_type": "execute_result"
    }
   ],
   "source": [
    "def pattern_occurences(seq: str, pattern: str, hamming: int):\n",
    "    c = []\n",
    "    for i in range(0,len(seq)):\n",
    "        t = hamming_distance(seq[i:i+len(pattern)], pattern) \n",
    "        if t <= hamming and t != -1:\n",
    "            c.append(i)\n",
    "    return c\n",
    "    \n",
    "s = \"CGCCCGAATCCAGAACGCATTCCCATATTTCGGGACCACTGGCCTCCACGGTACGGACGTCAATCAAAT\"\n",
    "p = \"ATTCTGGA\"\n",
    "h = 3\n",
    "pattern_occurences(s,p,h)"
   ]
  },
  {
   "cell_type": "code",
   "execution_count": 13,
   "metadata": {},
   "outputs": [
    {
     "data": {
      "text/plain": [
       "12"
      ]
     },
     "execution_count": 13,
     "metadata": {},
     "output_type": "execute_result"
    }
   ],
   "source": [
    "import itertools\n",
    "def mutations(word, hamming_distance, charset='ATCG'):\n",
    "    # https://stackoverflow.com/questions/19941079/inverse-of-hamming-distance\n",
    "    for indices in itertools.combinations(range(len(word)), hamming_distance):\n",
    "        for replacements in itertools.product(charset, repeat=hamming_distance):\n",
    "            mutation = list(word)\n",
    "            for index, replacement in zip(indices, replacements):\n",
    "                mutation[index] = replacement\n",
    "            yield \"\".join(mutation)\n",
    "\n",
    "def count(seq: str, pattern: str, h: int):\n",
    "    c = 0\n",
    "    for i in set(mutations(pattern, h)):\n",
    "        pattern = \"(?=\"+pattern+\")\"\n",
    "        c+=len([m.start() for m in re.finditer(i, seq)])\n",
    "    return c\n",
    "\n",
    "s = \"TACGCATTACAAAGCACA\"\n",
    "p = \"AA\"\n",
    "h = 1\n",
    "count(s, p, h)\n"
   ]
  },
  {
   "cell_type": "code",
   "execution_count": 14,
   "metadata": {},
   "outputs": [
    {
     "name": "stdout",
     "output_type": "stream",
     "text": [
      "106\n"
     ]
    }
   ],
   "source": [
    "def neighbors(s, h):\n",
    "    c = []\n",
    "    for i in set(mutations(s, h)):\n",
    "        c.append(i)\n",
    "    print(len(c))\n",
    "neighbors(\"TGCAT\", 2)"
   ]
  },
  {
   "cell_type": "code",
   "execution_count": 15,
   "metadata": {},
   "outputs": [
    {
     "name": "stdout",
     "output_type": "stream",
     "text": [
      "OrderedDict([('ATGT', 5), ('GATG', 5), ('ATGC', 5), ('CATG', 4), ('ATGA', 4), ('GTTG', 3), ('TTGC', 3), ('TGCA', 3), ('GCAT', 3), ('CGCA', 3), ('TGAG', 3), ('ACGT', 2), ('GTCG', 2), ('TCGC', 2), ('TGAT', 2), ('GAGA', 2), ('AGAG', 2), ('GAGC', 2), ('CGTT', 1), ('TGTC', 1), ('AGCT', 1)])\n"
     ]
    }
   ],
   "source": [
    "from collections import OrderedDict\n",
    "from operator import itemgetter\n",
    "\n",
    "\n",
    "def kmers_finder_with_mismatches(seq: str, k: int, h: int, most_common=False):\n",
    "    # https://gist.github.com/alec-djinn/9018370\n",
    "    motif_dict = {}\n",
    "    for i in range(len(sequence) - motif_length +1):\n",
    "        motif = sequence[i:i+motif_length]\n",
    "        if motif not in motif_dict:\n",
    "            motif_dict[motif] = 1\n",
    "        else:\n",
    "            motif_dict[motif] += 1\n",
    "    #check for mismatches\n",
    "    motif_dict_with_mismatches = {}\n",
    "    for kmer in motif_dict:\n",
    "        motif_dict_with_mismatches.update({kmer:[]})\n",
    "            \n",
    "        for other_kmer in motif_dict:\n",
    "            mismatches = 0\n",
    "            for i in range(len(kmer)):\n",
    "                if kmer[i] != other_kmer[i]:\n",
    "                    mismatches += 1\n",
    "            if mismatches <= max_mismatches:\n",
    "                motif_dict_with_mismatches[kmer].append([other_kmer,motif_dict[other_kmer]])\n",
    "    #count occurrences of motifs\n",
    "    tmp = {}\n",
    "    for item in motif_dict_with_mismatches:\n",
    "        count = 0\n",
    "        for motif in motif_dict_with_mismatches[item]:\n",
    "            count += motif[-1]\n",
    "        tmp.update({item:count})\n",
    "\n",
    "    result = OrderedDict(sorted(tmp.items(), key=itemgetter(1), reverse=True))\n",
    "    #find the most common/s\n",
    "    if most_common:\n",
    "        commons = OrderedDict()\n",
    "        _max = result.items()[0][1]\n",
    "        for item in result:\n",
    "            if result[item] == _max:\n",
    "                commons.update({item:result[item]})\n",
    "            else:\n",
    "                return commons\n",
    "    return result\n",
    "\n",
    "sequence = 'ACGTTGCATGTCGCATGATGCATGAGAGCT'\n",
    "\n",
    "motif_length = 4\n",
    "max_mismatches = 1\n",
    "a = kmers_finder_with_mismatches(sequence, motif_length, max_mismatches, most_common=False)\n",
    "print(a)\n"
   ]
  },
  {
   "cell_type": "code",
   "execution_count": 16,
   "metadata": {},
   "outputs": [
    {
     "data": {
      "text/plain": [
       "{'GACAT', 'GCCAT', 'GGCAT', 'GTCAT'}"
      ]
     },
     "execution_count": 16,
     "metadata": {},
     "output_type": "execute_result"
    }
   ],
   "source": [
    "# https://stackoverflow.com/questions/45802748/dna-motif-enumeration-with-try-except-and-loops-python3\n",
    "# This stack overflow posts shows some really powerfull ways to solve basic problems using some python optimizations\n",
    "def combination(k):\n",
    "    return (''.join(p) for p in itertools.product('ATCG', repeat=k))\n",
    "\n",
    "def hamming_distance(pattern, seq):\n",
    "    return sum(c1 != c2 for c1, c2 in zip(pattern, seq))\n",
    "\n",
    "def window(s, k):\n",
    "    for i in range(1 + len(s) - k):\n",
    "        yield s[i:i+k]\n",
    "\n",
    "def motif_enumeration(seq: str, k: int, d: int):\n",
    "    pattern = set()\n",
    "    for combo in combination(k):\n",
    "        if all(any(hamming_distance(combo, pat) <= d \n",
    "                for pat in window(string, k)) for string in seq):\n",
    "            pattern.add(combo)\n",
    "    return pattern\n",
    "            \n",
    "        \n",
    "s =[\"AAGAAGCTTAGCCATTCGAAACACC\", \"GAGCGGTTGCGGCATGAAATTTTCA\", \"CCTAAGCCATCATCCAGTTCAATGA\", \"AGGTTGAACGGGATTGCCATATGCT\", \"TGTCTTCCCTATTTTGCCGCGACAT\", \"GGAAAGCCTAGTCATGCTCAATCGA\"]\n",
    "k = 5\n",
    "d = 1\n",
    "motif_enumeration(s, k, d)"
   ]
  },
  {
   "cell_type": "code",
   "execution_count": 117,
   "metadata": {},
   "outputs": [
    {
     "data": {
      "text/plain": [
       "'AATCCTA'"
      ]
     },
     "execution_count": 117,
     "metadata": {},
     "output_type": "execute_result"
    }
   ],
   "source": [
    "# https://github.com/jarecot/Rosalind/blob/master/Textbook_03B.py\n",
    "from itertools import product\n",
    "def median_string(k: int, seqs: list):\n",
    "    best_score = k*len(seqs) + 1\n",
    "    for pattern in product('ACGT', repeat=k):\n",
    "        current_score = sum([motif_score(''.join(pattern), seq) for seq in seqs])\n",
    "        if current_score < best_score:\n",
    "            best_score = current_score\n",
    "            best_pattern = ''.join(pattern)\n",
    "    return best_pattern\n",
    "\n",
    "def motif_score(pattern, motif):\n",
    "    return min([hamming_distance(motif[i:i+len(pattern)], pattern) for i in range(len(motif)-len(pattern)+1)])\n",
    "seqs = [\"CTCGATGAGTAGGAAAGTAGTTTCACTGGGCGAACCACCCCGGCGCTAATCCTAGTGCCC\", \"GCAATCCTACCCGAGGCCACATATCAGTAGGAACTAGAACCACCACGGGTGGCTAGTTTC\",\"GGTGTTGAACCACGGGGTTAGTTTCATCTATTGTAGGAATCGGCTTCAAATCCTACACAG\"]\n",
    "k = 7\n",
    "median_string(k, seqs)"
   ]
  },
  {
   "cell_type": "code",
   "execution_count": 174,
   "metadata": {},
   "outputs": [
    {
     "data": {
      "text/plain": [
       "'CCGAG'"
      ]
     },
     "execution_count": 174,
     "metadata": {},
     "output_type": "execute_result"
    }
   ],
   "source": [
    "from operator import mul\n",
    "from functools import reduce\n",
    "\n",
    "\n",
    "#https://github.com/minw2828/Coursera---Bioinformatics-Algorithms/blob/master/chapter3/C3_39/39_3/pmpkp.py\n",
    "from functools import reduce\n",
    "import operator\n",
    "\n",
    "s = \"ACCTGTTTATTGCCTAAGTTCCGAACAAACCCAATATAGCCCGAGGGCCT\"\n",
    "k = 5\n",
    "p = [[.2, .2, .3, .2, .3], [.4, .3, .1, .5, .1], [.3, .3, .5, .2, .4], [.1, .2, .1, .1, .2]]\n",
    "def find_kmers(seq, k):\n",
    "    return set(seq[i:i+k] for i in range(len(seq)-k+1))\n",
    "\n",
    "def calculate(kmer, profile, order={\"A\":0, \"C\":1, \"G\":2, \"T\":3}):\n",
    "    c = []\n",
    "    for i in range(0, len(kmer)):\n",
    "        c.append(profile[order[kmer[i]]][i])\n",
    "    return reduce(operator.mul, c, 1)\n",
    "    \n",
    "\n",
    "def profile(seq, k, profile):\n",
    "    results = [(kmer, calculate(kmer,profile)) for kmer in find_kmers(seq, k)]\n",
    "    return sorted(results,key=lambda x:x[1],reverse=True)[0][0]\n",
    "profile(s, k, p)\n"
   ]
  },
  {
   "cell_type": "code",
   "execution_count": 179,
   "metadata": {
    "scrolled": false
   },
   "outputs": [
    {
     "ename": "IndexError",
     "evalue": "list index out of range",
     "output_type": "error",
     "traceback": [
      "\u001b[0;31m---------------------------------------------------------------------------\u001b[0m",
      "\u001b[0;31mIndexError\u001b[0m                                Traceback (most recent call last)",
      "\u001b[0;32m<ipython-input-179-5d574205bc54>\u001b[0m in \u001b[0;36m<module>\u001b[0;34m()\u001b[0m\n\u001b[1;32m     17\u001b[0m \u001b[0mt\u001b[0m \u001b[0;34m=\u001b[0m \u001b[0;36m5\u001b[0m\u001b[0;34m\u001b[0m\u001b[0m\n\u001b[1;32m     18\u001b[0m \u001b[0ms\u001b[0m \u001b[0;34m=\u001b[0m \u001b[0;34m[\u001b[0m\u001b[0;34m\"GGCGTTCAGGCA\"\u001b[0m\u001b[0;34m,\u001b[0m\u001b[0;34m\"AAGAATCAGTCA\"\u001b[0m\u001b[0;34m,\u001b[0m\u001b[0;34m\"CAAGGAGTTCGC\"\u001b[0m\u001b[0;34m,\u001b[0m\u001b[0;34m\"CACGTCAATCAC\"\u001b[0m\u001b[0;34m,\u001b[0m\u001b[0;34m\"CAATAATATTCG\"\u001b[0m\u001b[0;34m]\u001b[0m\u001b[0;34m\u001b[0m\u001b[0m\n\u001b[0;32m---> 19\u001b[0;31m \u001b[0mgreedy_motif_search\u001b[0m\u001b[0;34m(\u001b[0m\u001b[0ms\u001b[0m\u001b[0;34m,\u001b[0m \u001b[0mk\u001b[0m\u001b[0;34m,\u001b[0m \u001b[0mt\u001b[0m\u001b[0;34m)\u001b[0m\u001b[0;34m\u001b[0m\u001b[0m\n\u001b[0m",
      "\u001b[0;32m<ipython-input-179-5d574205bc54>\u001b[0m in \u001b[0;36mgreedy_motif_search\u001b[0;34m(seqs, k, t)\u001b[0m\n\u001b[1;32m     10\u001b[0m         \u001b[0;32mfor\u001b[0m \u001b[0mj\u001b[0m \u001b[0;32min\u001b[0m \u001b[0mrange\u001b[0m\u001b[0;34m(\u001b[0m\u001b[0;36m1\u001b[0m\u001b[0;34m,\u001b[0m \u001b[0mt\u001b[0m\u001b[0;34m)\u001b[0m\u001b[0;34m:\u001b[0m\u001b[0;34m\u001b[0m\u001b[0m\n\u001b[1;32m     11\u001b[0m             \u001b[0mcurrent_profile\u001b[0m \u001b[0;34m=\u001b[0m \u001b[0mprofile_with_pseudocounts\u001b[0m\u001b[0;34m(\u001b[0m\u001b[0mmotifs\u001b[0m\u001b[0;34m)\u001b[0m\u001b[0;34m\u001b[0m\u001b[0m\n\u001b[0;32m---> 12\u001b[0;31m             \u001b[0mmotifs\u001b[0m\u001b[0;34m.\u001b[0m\u001b[0mappend\u001b[0m\u001b[0;34m(\u001b[0m\u001b[0mprofile\u001b[0m\u001b[0;34m(\u001b[0m\u001b[0mseqs\u001b[0m\u001b[0;34m[\u001b[0m\u001b[0mj\u001b[0m\u001b[0;34m]\u001b[0m\u001b[0;34m,\u001b[0m \u001b[0mk\u001b[0m\u001b[0;34m,\u001b[0m \u001b[0mcurrent_profile\u001b[0m\u001b[0;34m)\u001b[0m\u001b[0;34m)\u001b[0m\u001b[0;34m\u001b[0m\u001b[0m\n\u001b[0m\u001b[1;32m     13\u001b[0m \u001b[0;34m\u001b[0m\u001b[0m\n\u001b[1;32m     14\u001b[0m \u001b[0;34m\u001b[0m\u001b[0m\n",
      "\u001b[0;32m<ipython-input-174-243c66bb1c27>\u001b[0m in \u001b[0;36mprofile\u001b[0;34m(seq, k, profile)\u001b[0m\n\u001b[1;32m     21\u001b[0m \u001b[0;34m\u001b[0m\u001b[0m\n\u001b[1;32m     22\u001b[0m \u001b[0;32mdef\u001b[0m \u001b[0mprofile\u001b[0m\u001b[0;34m(\u001b[0m\u001b[0mseq\u001b[0m\u001b[0;34m,\u001b[0m \u001b[0mk\u001b[0m\u001b[0;34m,\u001b[0m \u001b[0mprofile\u001b[0m\u001b[0;34m)\u001b[0m\u001b[0;34m:\u001b[0m\u001b[0;34m\u001b[0m\u001b[0m\n\u001b[0;32m---> 23\u001b[0;31m     \u001b[0mresults\u001b[0m \u001b[0;34m=\u001b[0m \u001b[0;34m[\u001b[0m\u001b[0;34m(\u001b[0m\u001b[0mkmer\u001b[0m\u001b[0;34m,\u001b[0m \u001b[0mcalculate\u001b[0m\u001b[0;34m(\u001b[0m\u001b[0mkmer\u001b[0m\u001b[0;34m,\u001b[0m\u001b[0mprofile\u001b[0m\u001b[0;34m)\u001b[0m\u001b[0;34m)\u001b[0m \u001b[0;32mfor\u001b[0m \u001b[0mkmer\u001b[0m \u001b[0;32min\u001b[0m \u001b[0mfind_kmers\u001b[0m\u001b[0;34m(\u001b[0m\u001b[0mseq\u001b[0m\u001b[0;34m,\u001b[0m \u001b[0mk\u001b[0m\u001b[0;34m)\u001b[0m\u001b[0;34m]\u001b[0m\u001b[0;34m\u001b[0m\u001b[0m\n\u001b[0m\u001b[1;32m     24\u001b[0m     \u001b[0;32mreturn\u001b[0m \u001b[0msorted\u001b[0m\u001b[0;34m(\u001b[0m\u001b[0mresults\u001b[0m\u001b[0;34m,\u001b[0m\u001b[0mkey\u001b[0m\u001b[0;34m=\u001b[0m\u001b[0;32mlambda\u001b[0m \u001b[0mx\u001b[0m\u001b[0;34m:\u001b[0m\u001b[0mx\u001b[0m\u001b[0;34m[\u001b[0m\u001b[0;36m1\u001b[0m\u001b[0;34m]\u001b[0m\u001b[0;34m,\u001b[0m\u001b[0mreverse\u001b[0m\u001b[0;34m=\u001b[0m\u001b[0;32mTrue\u001b[0m\u001b[0;34m)\u001b[0m\u001b[0;34m[\u001b[0m\u001b[0;36m0\u001b[0m\u001b[0;34m]\u001b[0m\u001b[0;34m[\u001b[0m\u001b[0;36m0\u001b[0m\u001b[0;34m]\u001b[0m\u001b[0;34m\u001b[0m\u001b[0m\n\u001b[1;32m     25\u001b[0m \u001b[0mprofile\u001b[0m\u001b[0;34m(\u001b[0m\u001b[0ms\u001b[0m\u001b[0;34m,\u001b[0m \u001b[0mk\u001b[0m\u001b[0;34m,\u001b[0m \u001b[0mp\u001b[0m\u001b[0;34m)\u001b[0m\u001b[0;34m\u001b[0m\u001b[0m\n",
      "\u001b[0;32m<ipython-input-174-243c66bb1c27>\u001b[0m in \u001b[0;36m<listcomp>\u001b[0;34m(.0)\u001b[0m\n\u001b[1;32m     21\u001b[0m \u001b[0;34m\u001b[0m\u001b[0m\n\u001b[1;32m     22\u001b[0m \u001b[0;32mdef\u001b[0m \u001b[0mprofile\u001b[0m\u001b[0;34m(\u001b[0m\u001b[0mseq\u001b[0m\u001b[0;34m,\u001b[0m \u001b[0mk\u001b[0m\u001b[0;34m,\u001b[0m \u001b[0mprofile\u001b[0m\u001b[0;34m)\u001b[0m\u001b[0;34m:\u001b[0m\u001b[0;34m\u001b[0m\u001b[0m\n\u001b[0;32m---> 23\u001b[0;31m     \u001b[0mresults\u001b[0m \u001b[0;34m=\u001b[0m \u001b[0;34m[\u001b[0m\u001b[0;34m(\u001b[0m\u001b[0mkmer\u001b[0m\u001b[0;34m,\u001b[0m \u001b[0mcalculate\u001b[0m\u001b[0;34m(\u001b[0m\u001b[0mkmer\u001b[0m\u001b[0;34m,\u001b[0m\u001b[0mprofile\u001b[0m\u001b[0;34m)\u001b[0m\u001b[0;34m)\u001b[0m \u001b[0;32mfor\u001b[0m \u001b[0mkmer\u001b[0m \u001b[0;32min\u001b[0m \u001b[0mfind_kmers\u001b[0m\u001b[0;34m(\u001b[0m\u001b[0mseq\u001b[0m\u001b[0;34m,\u001b[0m \u001b[0mk\u001b[0m\u001b[0;34m)\u001b[0m\u001b[0;34m]\u001b[0m\u001b[0;34m\u001b[0m\u001b[0m\n\u001b[0m\u001b[1;32m     24\u001b[0m     \u001b[0;32mreturn\u001b[0m \u001b[0msorted\u001b[0m\u001b[0;34m(\u001b[0m\u001b[0mresults\u001b[0m\u001b[0;34m,\u001b[0m\u001b[0mkey\u001b[0m\u001b[0;34m=\u001b[0m\u001b[0;32mlambda\u001b[0m \u001b[0mx\u001b[0m\u001b[0;34m:\u001b[0m\u001b[0mx\u001b[0m\u001b[0;34m[\u001b[0m\u001b[0;36m1\u001b[0m\u001b[0;34m]\u001b[0m\u001b[0;34m,\u001b[0m\u001b[0mreverse\u001b[0m\u001b[0;34m=\u001b[0m\u001b[0;32mTrue\u001b[0m\u001b[0;34m)\u001b[0m\u001b[0;34m[\u001b[0m\u001b[0;36m0\u001b[0m\u001b[0;34m]\u001b[0m\u001b[0;34m[\u001b[0m\u001b[0;36m0\u001b[0m\u001b[0;34m]\u001b[0m\u001b[0;34m\u001b[0m\u001b[0m\n\u001b[1;32m     25\u001b[0m \u001b[0mprofile\u001b[0m\u001b[0;34m(\u001b[0m\u001b[0ms\u001b[0m\u001b[0;34m,\u001b[0m \u001b[0mk\u001b[0m\u001b[0;34m,\u001b[0m \u001b[0mp\u001b[0m\u001b[0;34m)\u001b[0m\u001b[0;34m\u001b[0m\u001b[0m\n",
      "\u001b[0;32m<ipython-input-174-243c66bb1c27>\u001b[0m in \u001b[0;36mcalculate\u001b[0;34m(kmer, profile, order)\u001b[0m\n\u001b[1;32m     16\u001b[0m     \u001b[0mc\u001b[0m \u001b[0;34m=\u001b[0m \u001b[0;34m[\u001b[0m\u001b[0;34m]\u001b[0m\u001b[0;34m\u001b[0m\u001b[0m\n\u001b[1;32m     17\u001b[0m     \u001b[0;32mfor\u001b[0m \u001b[0mi\u001b[0m \u001b[0;32min\u001b[0m \u001b[0mrange\u001b[0m\u001b[0;34m(\u001b[0m\u001b[0;36m0\u001b[0m\u001b[0;34m,\u001b[0m \u001b[0mlen\u001b[0m\u001b[0;34m(\u001b[0m\u001b[0mkmer\u001b[0m\u001b[0;34m)\u001b[0m\u001b[0;34m)\u001b[0m\u001b[0;34m:\u001b[0m\u001b[0;34m\u001b[0m\u001b[0m\n\u001b[0;32m---> 18\u001b[0;31m         \u001b[0mc\u001b[0m\u001b[0;34m.\u001b[0m\u001b[0mappend\u001b[0m\u001b[0;34m(\u001b[0m\u001b[0mprofile\u001b[0m\u001b[0;34m[\u001b[0m\u001b[0morder\u001b[0m\u001b[0;34m[\u001b[0m\u001b[0mkmer\u001b[0m\u001b[0;34m[\u001b[0m\u001b[0mi\u001b[0m\u001b[0;34m]\u001b[0m\u001b[0;34m]\u001b[0m\u001b[0;34m]\u001b[0m\u001b[0;34m[\u001b[0m\u001b[0mi\u001b[0m\u001b[0;34m]\u001b[0m\u001b[0;34m)\u001b[0m\u001b[0;34m\u001b[0m\u001b[0m\n\u001b[0m\u001b[1;32m     19\u001b[0m     \u001b[0;32mreturn\u001b[0m \u001b[0mreduce\u001b[0m\u001b[0;34m(\u001b[0m\u001b[0moperator\u001b[0m\u001b[0;34m.\u001b[0m\u001b[0mmul\u001b[0m\u001b[0;34m,\u001b[0m \u001b[0mc\u001b[0m\u001b[0;34m,\u001b[0m \u001b[0;36m1\u001b[0m\u001b[0;34m)\u001b[0m\u001b[0;34m\u001b[0m\u001b[0m\n\u001b[1;32m     20\u001b[0m \u001b[0;34m\u001b[0m\u001b[0m\n",
      "\u001b[0;31mIndexError\u001b[0m: list index out of range"
     ]
    }
   ],
   "source": [
    "def profile_with_pseudocounts(motifs):\n",
    "    '''Returns the profile of the dna list motifs.'''\n",
    "    columns = [''.join(seq) for seq in zip(*motifs)]\n",
    "    return [[float(col.count(nuc)+1) / float(len(col)+4) for nuc in 'ACGT'] for col in columns]\n",
    "\n",
    "    \n",
    "def greedy_search_motiff(seqs, k, t):\n",
    "    best_motif = [seq[:k] for seq in seqs]\n",
    "    for i in range(len(seqs[0])):\n",
    "        motif = seqs[0][i:i+k]\n",
    "k = 3\n",
    "t = 5\n",
    "s = [\"GGCGTTCAGGCA\",\"AAGAATCAGTCA\",\"CAAGGAGTTCGC\",\"CACGTCAATCAC\",\"CAATAATATTCG\"]\n"
   ]
  },
  {
   "cell_type": "code",
   "execution_count": 135,
   "metadata": {},
   "outputs": [
    {
     "data": {
      "text/plain": [
       "5"
      ]
     },
     "execution_count": 135,
     "metadata": {},
     "output_type": "execute_result"
    }
   ],
   "source": [
    "from sys import maxsize\n",
    "def distanceBetweenPatternAndStrings(p, seq): \n",
    "    k = len(p) \n",
    "    distance = 0\n",
    "    for s in  seq:\n",
    "        hd = maxsize \n",
    "        for i in range(0, len(s)-k+1): \n",
    "            if hd > hamming_distance(p, s[i:i+k]): \n",
    "                hd = hamming_distance(p, s[i:i+k]) \n",
    "        distance = distance + hd\n",
    "    return distance\n",
    "p = \"AAA\"\n",
    "s = [i for i in \"TTACCTTAAC GATATCTGTC ACGGCGTTCG CCCTAAAGAG CGTCAGAGGT\".split(\" \")]\n",
    "distanceBetweenPatternAndStrings(p, s)"
   ]
  },
  {
   "cell_type": "code",
   "execution_count": null,
   "metadata": {},
   "outputs": [],
   "source": []
  },
  {
   "cell_type": "code",
   "execution_count": null,
   "metadata": {
    "collapsed": true
   },
   "outputs": [],
   "source": []
  }
 ],
 "metadata": {
  "kernelspec": {
   "display_name": "Python 3",
   "language": "python",
   "name": "python3"
  },
  "language_info": {
   "codemirror_mode": {
    "name": "ipython",
    "version": 3
   },
   "file_extension": ".py",
   "mimetype": "text/x-python",
   "name": "python",
   "nbconvert_exporter": "python",
   "pygments_lexer": "ipython3",
   "version": "3.6.2"
  }
 },
 "nbformat": 4,
 "nbformat_minor": 2
}
