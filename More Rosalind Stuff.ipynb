{
 "cells": [
  {
   "cell_type": "code",
   "execution_count": 13,
   "metadata": {},
   "outputs": [
    {
     "name": "stdout",
     "output_type": "stream",
     "text": [
      "5\n"
     ]
    }
   ],
   "source": [
    "#http://rosalind.info/problems/rvco/\n",
    "from Bio.Seq import Seq\n",
    "from Bio.Alphabet import IUPAC\n",
    "f = open(\"FILEPATH\")\n",
    "counter = 0\n",
    "line = \"\"\n",
    "for line in f:\n",
    "    if \">\" not in line:\n",
    "        line+=line\n",
    "        line = line.strip(\"\\n\")\n",
    "        my_seq = Seq(line,  IUPAC.unambiguous_dna)\n",
    "        if line == str(my_seq.reverse_complement()):\n",
    "            counter+=1\n",
    "    else:\n",
    "        line = \"\"\n",
    "print(counter)"
   ]
  },
  {
   "cell_type": "code",
   "execution_count": null,
   "metadata": {},
   "outputs": [],
   "source": []
  },
  {
   "cell_type": "code",
   "execution_count": 38,
   "metadata": {
    "collapsed": true
   },
   "outputs": [
    {
     "name": "stdout",
     "output_type": "stream",
     "text": [
      "7.48272330301972e-24\n"
     ]
    }
   ],
   "source": [
    "#http://rosalind.info/problems/ba10a/\n",
    "f = open(\"tq.txt\")\n",
    "line_counter = 0 \n",
    "chain = \"\"\n",
    "states = \"\"\n",
    "matrix = []\n",
    "#Ugly Read in function\n",
    "for line in f:\n",
    "    if \"---\" not in line and line_counter == 0:\n",
    "        chain = line.strip(\"\\n\")\n",
    "        line_counter+=1\n",
    "    elif \"---\" not in line and line_counter == 1:\n",
    "        states = line\n",
    "        line_counter +=1\n",
    "    elif \"---\" not in line:\n",
    "        matrix.append(line.strip(\"\\n\"))\n",
    "    else:\n",
    "        pass\n",
    "def matrix_cleaner(s,m):\n",
    "    m = m[1:]\n",
    "    new_m = []\n",
    "    for row in m:\n",
    "        new_m.append(row[1:].split())\n",
    "    s = s.split()\n",
    "    m_dict = {i:{i:0 for i in s} for i in s}\n",
    "    for i in range(len(s)):\n",
    "        state = s[i]\n",
    "        for prob_pos in range(len(new_m[i])):\n",
    "            m_dict[state][s[prob_pos]] = float(new_m[i][prob_pos])\n",
    "\n",
    "    return m_dict\n",
    "\n",
    "def chain_reader(m_chain, m):\n",
    "    prob = .5\n",
    "    prev_char = m_chain[0]\n",
    "    for i in m_chain[1:]:\n",
    "        prob = prob*m[prev_char][i]\n",
    "        prev_char = i\n",
    "    return prob\n",
    "print(chain_reader(chain, matrix_cleaner(states, matrix)))"
   ]
  },
  {
   "cell_type": "code",
   "execution_count": 69,
   "metadata": {},
   "outputs": [
    {
     "name": "stdout",
     "output_type": "stream",
     "text": [
      "xyzxzxyzxxzyyyyzxzzzyyxzzzyyzxzxyyyxyzxzxzyzyyxxxy\n",
      "BAABABABBABBBAABBBAABBABAAAAAABAABBBABABBAABBBBBBA\n",
      "x\ty\tz\n",
      "A\tB\n",
      "['\\tx\\ty\\tz', 'A\\t0.405\\t0.225\\t0.37\\t', 'B\\t0.397\\t0.394\\t0.21']\n"
     ]
    },
    {
     "data": {
      "text/plain": [
       "5.70903341003276e-26"
      ]
     },
     "execution_count": 69,
     "metadata": {},
     "output_type": "execute_result"
    }
   ],
   "source": [
    "#http://rosalind.info/problems/ba10b/\n",
    "#Computer probability of hidden Markov given states and emissions \n",
    "f = open(\"tq.txt\")\n",
    "line_counter = 0 \n",
    "chain = \"\"\n",
    "em_chain = \"\"\n",
    "emissions = \"\"\n",
    "states = \"\"\n",
    "matrix = []\n",
    "#Ugly Read in function\n",
    "for line in f:\n",
    "    if \"---\" not in line and line_counter == 0:\n",
    "        em_chain = line.strip(\"\\n\")\n",
    "        line_counter+=1\n",
    "    elif \"---\" not in line and line_counter == 1:\n",
    "        emissions = line.strip(\"\\n\")\n",
    "        line_counter +=1\n",
    "    elif \"---\" not in line and line_counter == 2:\n",
    "        chain =line.strip(\"\\n\")\n",
    "        line_counter+=1\n",
    "    elif  \"---\" not in line and line_counter == 3:\n",
    "        states = line.strip(\"\\n\")\n",
    "        line_counter+=1\n",
    "    elif \"---\" not in line:\n",
    "        matrix.append(line.strip(\"\\n\"))\n",
    "    else:\n",
    "        pass\n",
    "    \n",
    "    \n",
    "print(em_chain)\n",
    "print(chain)\n",
    "print(emissions)\n",
    "print(states)\n",
    "print(matrix)\n",
    "\n",
    "def matrix_cleaner(e,s,m):\n",
    "    m = m[1:]\n",
    "    new_m = []\n",
    "    for row in m:\n",
    "        new_m.append(row[1:].split())\n",
    "    s = s.split()\n",
    "    e = e.split()\n",
    "    m_dict = {i:{i:0 for i in s} for i in e}\n",
    "    for i in range(len(s)):\n",
    "        for j in range(len(e)):\n",
    "            m_dict[e[j]][s[i]] = float(new_m[i][j])\n",
    "    return m_dict\n",
    "\n",
    "def chain_reader(e, s, m):\n",
    "    prob = 1\n",
    "    for i in range(len(e)):\n",
    "        prob*= m[e[i]][s[i]]\n",
    "    return prob\n",
    "        \n",
    "\n",
    "\n",
    "chain_reader(em_chain, chain, matrix_cleaner(emissions, states, matrix))"
   ]
  },
  {
   "cell_type": "code",
   "execution_count": 7,
   "metadata": {},
   "outputs": [
    {
     "name": "stdout",
     "output_type": "stream",
     "text": [
      "BBBBBBBBBBBBBBBBBBBBBBBBBBBBBBBBBBBBBBBBBBBBBBBBBBBBBBBBBBBBBBBBBBBBBBBBBBBBBBBBBBBBBBBBBBBBBBBBBBBB\n"
     ]
    },
    {
     "data": {
      "text/plain": [
       "False"
      ]
     },
     "execution_count": 7,
     "metadata": {},
     "output_type": "execute_result"
    }
   ],
   "source": [
    "#http://rosalind.info/problems/ba10c/\n",
    "from math import log10\n",
    "f = open(\"tq.txt\")\n",
    "line_counter = 0 \n",
    "chain = \"\"\n",
    "em_chain = \"\"\n",
    "emissions = \"\"\n",
    "states = \"\"\n",
    "em_matrix = []\n",
    "trans_matrix = []\n",
    "\n",
    "for line in f:\n",
    "    if \"---\" in line:\n",
    "        line_counter+=1\n",
    "    elif \"---\" not in line and line_counter == 0:\n",
    "        em_chain = line.strip(\"\\n\")\n",
    "\n",
    "    elif \"---\" not in line and line_counter == 1:\n",
    "        emissions = line.strip(\"\\n\")\n",
    "\n",
    "    elif \"---\" not in line and line_counter == 2:\n",
    "        states =line.strip(\"\\n\")\n",
    "\n",
    "    elif  \"---\" not in line and line_counter == 3:\n",
    "        trans_matrix.append(line.strip(\"\\n\"))\n",
    "    elif \"---\" not in line and line_counter == 4:\n",
    "        em_matrix.append(line.strip(\"\\n\")) \n",
    "    else:\n",
    "        pass\n",
    "\n",
    "    \n",
    "def trans_matrix_cleaner(s,m):\n",
    "    m = m[1:]\n",
    "    new_m = []\n",
    "    for row in m:\n",
    "        new_m.append(row[1:].split())\n",
    "    s = s.split()\n",
    "    m_dict = {i:{i:0 for i in s} for i in s}\n",
    "    for i in range(len(s)):\n",
    "        state = s[i]\n",
    "        for prob_pos in range(len(new_m[i])):\n",
    "            m_dict[state][s[prob_pos]] = float(new_m[i][prob_pos])\n",
    "    return m_dict\n",
    "def em_matrix_cleaner(e,s,m):\n",
    "    m = m[1:]\n",
    "    new_m = []\n",
    "    for row in m:\n",
    "        new_m.append(row[1:].split())\n",
    "    s = s.split()\n",
    "    e = e.split()\n",
    "    m_dict = {i:{i:0 for i in s} for i in e}\n",
    "    for i in range(len(s)):\n",
    "        for j in range(len(e)):\n",
    "            m_dict[e[j]][s[i]] = float(new_m[i][j])\n",
    "    return m_dict\n",
    "\n",
    "def viterbi(chain, em, trans, states, low=-1000):\n",
    "    max_val = (low, \"key\")\n",
    "    for i in em[chain[0]].keys():\n",
    "\n",
    "        prob = em[chain[0]][i] \n",
    "        if  prob > max_val[0]:\n",
    "            max_val = (em[chain[0]][i], i)\n",
    "    seq = max_val[1]\n",
    "    prev_predicted_char = max_val[1]\n",
    "    max_val = (low, \"key\")\n",
    "    for i in em_chain[1:]:\n",
    "        for j in em[i].keys():\n",
    "            prob = (em[i][j] * trans[j][prev_predicted_char])\n",
    "            if prob > max_val[0]:\n",
    "                max_val = (prob, j)\n",
    "        seq+=max_val[1]\n",
    "        prev_predicted_char = max_val[1]\n",
    "        max_val = (low, \"key\")\n",
    "            \n",
    "            \n",
    "    return seq      \n",
    "        \n",
    "        \n",
    "\n",
    "trans_dict = trans_matrix_cleaner(states, trans_matrix)\n",
    "em_dict = em_matrix_cleaner(emissions, states, em_matrix)\n",
    "\n",
    "x = viterbi(em_chain, em_dict, trans_dict, states) \n",
    "print(x)\n",
    "x == \"AAAAAAAAAAAAAABBBBBBBBBBBAAAAAAAAAAAAAAAAAAAAAAAAAAAAAABBBBBBBBBBBAAAAAAAAAAAAAAAAAAAAABBBBBBBBBBAAA\""
   ]
  },
  {
   "cell_type": "code",
   "execution_count": null,
   "metadata": {},
   "outputs": [],
   "source": []
  },
  {
   "cell_type": "code",
   "execution_count": null,
   "metadata": {},
   "outputs": [],
   "source": []
  }
 ],
 "metadata": {
  "kernelspec": {
   "display_name": "Python 3",
   "language": "python",
   "name": "python3"
  },
  "language_info": {
   "codemirror_mode": {
    "name": "ipython",
    "version": 3
   },
   "file_extension": ".py",
   "mimetype": "text/x-python",
   "name": "python",
   "nbconvert_exporter": "python",
   "pygments_lexer": "ipython3",
   "version": "3.6.4"
  }
 },
 "nbformat": 4,
 "nbformat_minor": 2
}
